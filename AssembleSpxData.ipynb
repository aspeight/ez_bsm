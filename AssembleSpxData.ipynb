{
 "cells": [
  {
   "cell_type": "markdown",
   "id": "2220aadf",
   "metadata": {},
   "source": [
    "# Build a historical data set for testing"
   ]
  },
  {
   "cell_type": "code",
   "execution_count": 1,
   "id": "a8fa13c9",
   "metadata": {},
   "outputs": [],
   "source": [
    "import numpy as np\n",
    "import pandas as pd\n",
    "import scipy as sp\n",
    "import scipy.stats\n",
    "\n",
    "%matplotlib inline\n",
    "\n",
    "import matplotlib\n",
    "import numpy as np\n",
    "import matplotlib.pyplot as plt\n",
    "\n",
    "from ez_bsm.utils import SingleExpirationChain"
   ]
  },
  {
   "cell_type": "code",
   "execution_count": 2,
   "id": "07e19c21",
   "metadata": {},
   "outputs": [],
   "source": [
    "raw_data = pd.read_csv(r'C:\\Users\\aspei\\Dropbox\\Options\\historical_data_archive\\allspx\\SPX_2015.csv',\n",
    "                       parse_dates=['expiration','quotedate'],\n",
    "                      )\n",
    "raw_data['is_call'] = (raw_data.type=='call')\n",
    "raw_data['dte'] = (raw_data.expiration - raw_data.quotedate).dt.days"
   ]
  },
  {
   "cell_type": "code",
   "execution_count": 8,
   "id": "c1ee2712",
   "metadata": {},
   "outputs": [],
   "source": [
    "close_dates = pd.DatetimeIndex(raw_data.quotedate.unique())"
   ]
  },
  {
   "cell_type": "code",
   "execution_count": 14,
   "id": "b9ee7425",
   "metadata": {
    "scrolled": true
   },
   "outputs": [
    {
     "name": "stdout",
     "output_type": "stream",
     "text": [
      "2015-01-02 00:00:00\n",
      "2015-01-05 00:00:00\n",
      "2015-01-06 00:00:00\n",
      "2015-01-07 00:00:00\n",
      "2015-01-08 00:00:00\n",
      "2015-01-09 00:00:00\n",
      "2015-01-12 00:00:00\n",
      "2015-01-13 00:00:00\n",
      "2015-01-14 00:00:00\n",
      "2015-01-15 00:00:00\n",
      "2015-01-16 00:00:00\n",
      "2015-01-20 00:00:00\n",
      "2015-01-21 00:00:00\n",
      "2015-01-22 00:00:00\n",
      "2015-01-23 00:00:00\n",
      "2015-01-26 00:00:00\n",
      "2015-01-27 00:00:00\n",
      "2015-01-28 00:00:00\n",
      "2015-01-29 00:00:00\n",
      "2015-01-30 00:00:00\n",
      "2015-02-02 00:00:00\n",
      "2015-02-03 00:00:00\n",
      "2015-02-04 00:00:00\n",
      "2015-02-05 00:00:00\n",
      "2015-02-06 00:00:00\n",
      "2015-02-09 00:00:00\n",
      "2015-02-10 00:00:00\n",
      "2015-02-11 00:00:00\n",
      "2015-02-12 00:00:00\n",
      "2015-02-13 00:00:00\n",
      "2015-02-17 00:00:00\n",
      "2015-02-18 00:00:00\n",
      "2015-02-19 00:00:00\n",
      "2015-02-20 00:00:00\n",
      "2015-02-23 00:00:00\n",
      "2015-02-24 00:00:00\n",
      "2015-02-25 00:00:00\n",
      "2015-02-26 00:00:00\n",
      "2015-02-27 00:00:00\n",
      "2015-03-02 00:00:00\n",
      "2015-03-03 00:00:00\n",
      "2015-03-04 00:00:00\n",
      "2015-03-05 00:00:00\n",
      "2015-03-06 00:00:00\n",
      "2015-03-09 00:00:00\n",
      "2015-03-10 00:00:00\n",
      "2015-03-11 00:00:00\n",
      "2015-03-12 00:00:00\n",
      "2015-03-13 00:00:00\n",
      "2015-03-16 00:00:00\n",
      "2015-03-17 00:00:00\n",
      "2015-03-18 00:00:00\n",
      "2015-03-19 00:00:00\n",
      "2015-03-20 00:00:00\n",
      "2015-03-23 00:00:00\n",
      "2015-03-24 00:00:00\n",
      "2015-03-25 00:00:00\n",
      "2015-03-26 00:00:00\n",
      "2015-03-27 00:00:00\n",
      "2015-03-30 00:00:00\n"
     ]
    }
   ],
   "source": [
    "all_chains = []\n",
    "for close_date in close_dates[:60]:\n",
    "    print(close_date)\n",
    "    chains = raw_data[raw_data.quotedate==close_date].copy()\n",
    "    chains = chains[(chains.dte>30) & (chains.dte<220)]\n",
    "    chains = chains[chains.bid>0]\n",
    "    chains = chains[chains.strike % 25 == 0]\n",
    "    for expiration, chain in chains.groupby('expiration'):\n",
    "        assert all(chain.groupby(['type','strike']).count().max(axis=1)==1)\n",
    "        sec = SingleExpirationChain(chain.is_call, chain.strike,\n",
    "                                    mark=0.5*(chain.bid+chain.ask),\n",
    "                                    expiration=expiration, \n",
    "                                    is_am=True, close_date=close_date)\n",
    "        sec.compute_all()\n",
    "        all_chains.append(sec.as_dataframe())"
   ]
  },
  {
   "cell_type": "code",
   "execution_count": 15,
   "id": "9e4e165c",
   "metadata": {},
   "outputs": [],
   "source": [
    "result = pd.concat(all_chains, axis=0, ignore_index=True)"
   ]
  },
  {
   "cell_type": "code",
   "execution_count": 23,
   "id": "8ec83f3f",
   "metadata": {},
   "outputs": [],
   "source": [
    "result.to_csv(r'tests/spx_sample_q1_2015.csv', index=None)"
   ]
  },
  {
   "cell_type": "code",
   "execution_count": null,
   "id": "746e5ce7",
   "metadata": {},
   "outputs": [],
   "source": []
  },
  {
   "cell_type": "code",
   "execution_count": null,
   "id": "65359e97",
   "metadata": {},
   "outputs": [],
   "source": []
  }
 ],
 "metadata": {
  "kernelspec": {
   "display_name": "Python 3 (ipykernel)",
   "language": "python",
   "name": "python3"
  },
  "language_info": {
   "codemirror_mode": {
    "name": "ipython",
    "version": 3
   },
   "file_extension": ".py",
   "mimetype": "text/x-python",
   "name": "python",
   "nbconvert_exporter": "python",
   "pygments_lexer": "ipython3",
   "version": "3.8.10"
  }
 },
 "nbformat": 4,
 "nbformat_minor": 5
}
